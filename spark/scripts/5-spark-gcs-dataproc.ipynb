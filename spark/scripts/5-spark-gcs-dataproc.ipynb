{
 "cells": [
  {
   "cell_type": "markdown",
   "id": "a6d0f6c3",
   "metadata": {},
   "source": [
    "### Script to connect local spark to google cloud"
   ]
  },
  {
   "cell_type": "code",
   "execution_count": 2,
   "id": "915025b7",
   "metadata": {},
   "outputs": [],
   "source": [
    "import pyspark\n",
    "from pyspark.sql import SparkSession\n",
    "from pyspark.conf import SparkConf\n",
    "from pyspark.context import SparkContext"
   ]
  },
  {
   "cell_type": "code",
   "execution_count": 9,
   "id": "fe689286",
   "metadata": {},
   "outputs": [],
   "source": [
    "credentials_location = '/Users/gdk/google-cloud-sdk/dtc-de-2023.json'"
   ]
  },
  {
   "cell_type": "code",
   "execution_count": 10,
   "id": "00d3204a",
   "metadata": {},
   "outputs": [],
   "source": [
    "gcs_connector = '/Users/gdk/Projects/de-zoomcamp/spark/packages/gcs-connector-hadoop2-2.1.1.jar'"
   ]
  },
  {
   "cell_type": "code",
   "execution_count": 11,
   "id": "7ba4cec0",
   "metadata": {},
   "outputs": [],
   "source": [
    "conf = SparkConf() \\\n",
    "    .setMaster('local[*]') \\ # or the SPARK URL if you start standalone cluster locally\n",
    "    .setAppName('test') \\\n",
    "    .set(\"spark.jars\", gcs_connector) \\\n",
    "    .set(\"spark.hadoop.google.cloud.auth.service.account.enable\", \"true\") \\\n",
    "    .set(\"spark.hadoop.google.cloud.auth.service.account.json.keyfile\", credentials_location)"
   ]
  },
  {
   "cell_type": "code",
   "execution_count": 14,
   "id": "41f59834",
   "metadata": {},
   "outputs": [],
   "source": [
    "sc = SparkContext.getOrCreate(conf=conf)\n",
    "\n",
    "hadoop_conf = sc._jsc.hadoopConfiguration()\n",
    "\n",
    "hadoop_conf.set(\"fs.AbstractFileSystem.gs.impl\",  \"com.google.cloud.hadoop.fs.gcs.GoogleHadoopFS\")\n",
    "hadoop_conf.set(\"fs.gs.impl\", \"com.google.cloud.hadoop.fs.gcs.GoogleHadoopFileSystem\")\n",
    "hadoop_conf.set(\"fs.gs.auth.service.account.json.keyfile\", credentials_location)\n",
    "hadoop_conf.set(\"fs.gs.auth.service.account.enable\", \"true\")"
   ]
  },
  {
   "cell_type": "code",
   "execution_count": 15,
   "id": "e847226b",
   "metadata": {},
   "outputs": [],
   "source": [
    "spark = SparkSession.builder \\\n",
    "    .config(conf=sc.getConf()) \\\n",
    "    .getOrCreate()"
   ]
  },
  {
   "cell_type": "code",
   "execution_count": 16,
   "id": "cc3193dd",
   "metadata": {},
   "outputs": [
    {
     "name": "stderr",
     "output_type": "stream",
     "text": [
      "                                                                                \r"
     ]
    }
   ],
   "source": [
    "# read data from google cloud storage\n",
    "df_green = spark.read.parquet('gs://de-week4-data-lake/pq/green/*/*')"
   ]
  },
  {
   "cell_type": "code",
   "execution_count": 17,
   "id": "321dd212",
   "metadata": {},
   "outputs": [
    {
     "name": "stderr",
     "output_type": "stream",
     "text": [
      "                                                                                \r"
     ]
    },
    {
     "name": "stdout",
     "output_type": "stream",
     "text": [
      "+--------+--------------------+---------------------+------------------+----------+------------+------------+---------------+-------------+-----------+-----+-------+----------+------------+---------+---------------------+------------+------------+---------+--------------------+\n",
      "|VendorID|lpep_pickup_datetime|lpep_dropoff_datetime|store_and_fwd_flag|RatecodeID|PULocationID|DOLocationID|passenger_count|trip_distance|fare_amount|extra|mta_tax|tip_amount|tolls_amount|ehail_fee|improvement_surcharge|total_amount|payment_type|trip_type|congestion_surcharge|\n",
      "+--------+--------------------+---------------------+------------------+----------+------------+------------+---------------+-------------+-----------+-----+-------+----------+------------+---------+---------------------+------------+------------+---------+--------------------+\n",
      "|       2| 2020-01-10 17:17:10|  2020-01-10 17:25:00|                 N|         1|          41|          74|              1|         1.12|        7.0|  1.0|    0.5|      1.76|         0.0|     NULL|                  0.3|       10.56|           1|        1|                 0.0|\n",
      "|    NULL| 2020-01-04 20:00:00|  2020-01-04 20:17:00|              NULL|      NULL|         213|          60|           NULL|         3.44|      10.79|  0.0|    0.0|       0.0|         0.0|     NULL|                  0.3|       11.09|        NULL|     NULL|                NULL|\n",
      "|    NULL| 2020-01-24 17:11:00|  2020-01-24 17:33:00|              NULL|      NULL|         168|         167|           NULL|         3.18|      19.04| 2.75|    0.5|       0.0|         0.0|     NULL|                  0.0|       22.29|        NULL|     NULL|                NULL|\n",
      "|    NULL| 2020-01-07 17:59:00|  2020-01-07 18:18:00|              NULL|      NULL|          10|         130|           NULL|         2.59|      21.57| 2.75|    0.0|       0.0|         0.0|     NULL|                  0.3|       24.62|        NULL|     NULL|                NULL|\n",
      "+--------+--------------------+---------------------+------------------+----------+------------+------------+---------------+-------------+-----------+-----+-------+----------+------------+---------+---------------------+------------+------------+---------+--------------------+\n",
      "only showing top 4 rows\n",
      "\n"
     ]
    }
   ],
   "source": [
    "df_green.show(4)"
   ]
  },
  {
   "cell_type": "code",
   "execution_count": null,
   "id": "eee88565",
   "metadata": {},
   "outputs": [],
   "source": []
  }
 ],
 "metadata": {
  "kernelspec": {
   "display_name": "Python 3 (ipykernel)",
   "language": "python",
   "name": "python3"
  },
  "language_info": {
   "codemirror_mode": {
    "name": "ipython",
    "version": 3
   },
   "file_extension": ".py",
   "mimetype": "text/x-python",
   "name": "python",
   "nbconvert_exporter": "python",
   "pygments_lexer": "ipython3",
   "version": "3.9.13"
  }
 },
 "nbformat": 4,
 "nbformat_minor": 5
}
